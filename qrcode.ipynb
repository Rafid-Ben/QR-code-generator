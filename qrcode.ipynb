{
 "cells": [
  {
   "cell_type": "code",
   "execution_count": 8,
   "metadata": {},
   "outputs": [],
   "source": [
    "import qrcode\n",
    "\n",
    "def generate_qr_code(data: str, filename: str = \"qr_code.png\", version: int = 1,\n",
    "                      error_correction=qrcode.constants.ERROR_CORRECT_L,\n",
    "                      box_size: int = 10, border: int = 4):\n",
    "    \"\"\"\n",
    "    Generates a QR code for the given data and saves it as an image file.\n",
    "    \n",
    "    Parameters:\n",
    "        data (str): The URL or text to encode in the QR code.\n",
    "        filename (str): The name of the output file (default: 'qr_code.png').\n",
    "        version (int): Controls the size of the QR code (default: 1).\n",
    "        error_correction: Error correction level (default: ERROR_CORRECT_L). Other option ERROR_CORRECT_M, ERROR_CORRECT_Q, or ERROR_CORRECT_H).\n",
    "        box_size (int): Size of each box in pixels (default: 10).\n",
    "        border (int): Border size (default: 4).\n",
    "    \"\"\"\n",
    "    qr = qrcode.QRCode(\n",
    "        version=version,\n",
    "        error_correction=error_correction,\n",
    "        box_size=box_size,\n",
    "        border=border,\n",
    "    )\n",
    "    \n",
    "    qr.add_data(data)\n",
    "    qr.make(fit=True)\n",
    "    img = qr.make_image(fill=\"black\", back_color=\"white\")\n",
    "    img.save(filename)\n",
    "    print(f\"QR code generated and saved as '{filename}'\")\n"
   ]
  },
  {
   "cell_type": "code",
   "execution_count": 9,
   "metadata": {},
   "outputs": [
    {
     "name": "stdout",
     "output_type": "stream",
     "text": [
      "QR code generated and saved as 'qr_code.png'\n"
     ]
    }
   ],
   "source": [
    "# Example usage:\n",
    "generate_qr_code(\"http://en-ma-remp245-a.coecis.cornell.edu/propulsion/\")"
   ]
  }
 ],
 "metadata": {
  "kernelspec": {
   "display_name": "base",
   "language": "python",
   "name": "python3"
  },
  "language_info": {
   "codemirror_mode": {
    "name": "ipython",
    "version": 3
   },
   "file_extension": ".py",
   "mimetype": "text/x-python",
   "name": "python",
   "nbconvert_exporter": "python",
   "pygments_lexer": "ipython3",
   "version": "3.12.2"
  }
 },
 "nbformat": 4,
 "nbformat_minor": 2
}
